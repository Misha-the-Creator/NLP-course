{
 "cells": [
  {
   "cell_type": "code",
   "execution_count": 1,
   "id": "3b40a2e6",
   "metadata": {},
   "outputs": [],
   "source": [
    "import opencorpora"
   ]
  },
  {
   "cell_type": "code",
   "execution_count": 2,
   "id": "446b5032",
   "metadata": {},
   "outputs": [],
   "source": [
    "corpus = opencorpora.load('annot.opcorpora.xml')"
   ]
  },
  {
   "cell_type": "code",
   "execution_count": 3,
   "id": "d988a1fa",
   "metadata": {},
   "outputs": [],
   "source": [
    "symbols_to_remove = [',', '.', '?', '!', '\\n']\n",
    "\n",
    "with open('text.txt', 'r') as file:\n",
    "    text = file.read()"
   ]
  },
  {
   "cell_type": "code",
   "execution_count": 4,
   "id": "0466af61",
   "metadata": {},
   "outputs": [],
   "source": [
    "for char in symbols_to_remove:\n",
    "    if char == '\\n':\n",
    "        text = text.replace(f'{char}', ' ')\n",
    "    else:\n",
    "        text = text.replace(f'{char}', '')\n",
    "\n",
    "splitted_text = text.split()"
   ]
  },
  {
   "cell_type": "code",
   "execution_count": 5,
   "id": "6029c25d",
   "metadata": {},
   "outputs": [],
   "source": [
    "list_of_tokens = [token.source for token in corpus.tokens]"
   ]
  },
  {
   "cell_type": "code",
   "execution_count": null,
   "id": "ff7597e5",
   "metadata": {},
   "outputs": [
    {
     "name": "stdout",
     "output_type": "stream",
     "text": [
      "Не обнаружил слова в словаре\n",
      "Не обнаружил слова в словаре\n",
      "CPU times: user 29.1 s, sys: 1.28 s, total: 30.4 s\n",
      "Wall time: 30.4 s\n"
     ]
    }
   ],
   "source": [
    "%%time\n",
    "\n",
    "counter = 0\n",
    "word_lemma_gramema = []\n",
    "\n",
    "for word in splitted_text:\n",
    "    for p in range(len(list_of_tokens)):\n",
    "        if word == list_of_tokens[p]:\n",
    "            finded_token = corpus.tokens[p]\n",
    "            word_lemma_gramema.append(f'{word}({finded_token.lemma}={finded_token.grammemes[0]})')\n",
    "            break\n",
    "        else:\n",
    "            counter += 1\n",
    "            if counter == len(list_of_tokens):\n",
    "                word_lemma_gramema.append(f'{word}(не нашел лемму=не нашел грамемму)')   \n",
    "    counter = 0\n",
    "\n",
    "splitted = ' '.join(word_lemma_gramema)"
   ]
  },
  {
   "cell_type": "code",
   "execution_count": 9,
   "id": "1be451fd",
   "metadata": {},
   "outputs": [
    {
     "data": {
      "text/plain": [
       "'Стала(стал=VERB) стабильнее(не нашел лемму=не нашел грамемму) экономическая(экономический=ADJF) и(и=CONJ) политическая(политический=ADJF) обстановка(обстановка=NOUN) предприятия(предприятие=NOUN) вывели(вывел=VERB) из(из=PREP) тени(тень=NOUN) зарплаты(зарплата=NOUN) сотрудников(сотрудник=NOUN) Все(весь=ADJF) Гришины(гришин=ADJF) одноклассники(одноклассник=NOUN) уже(уже=ADVB) побывали(побывал=VERB) за(за=PREP) границей(граница=NOUN) он(он=NPRO) был(есть=VERB) чуть(чуть=ADVB) ли(ли=PRCL) не(не=PRCL) единственным(единственный=ADJF) кого(кто=NPRO) не(не=PRCL) вывозили(вывожу=VERB) никуда(никуда=ADVB) дальше(дальше=COMP) Красной(красный=ADJF) Пахры(не нашел лемму=не нашел грамемму)'"
      ]
     },
     "execution_count": 9,
     "metadata": {},
     "output_type": "execute_result"
    }
   ],
   "source": [
    "splitted"
   ]
  }
 ],
 "metadata": {
  "kernelspec": {
   "display_name": ".venv",
   "language": "python",
   "name": "python3"
  },
  "language_info": {
   "codemirror_mode": {
    "name": "ipython",
    "version": 3
   },
   "file_extension": ".py",
   "mimetype": "text/x-python",
   "name": "python",
   "nbconvert_exporter": "python",
   "pygments_lexer": "ipython3",
   "version": "3.12.3"
  }
 },
 "nbformat": 4,
 "nbformat_minor": 5
}
